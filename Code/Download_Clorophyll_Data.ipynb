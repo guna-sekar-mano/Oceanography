{
 "cells": [
  {
   "cell_type": "markdown",
   "id": "e4f8abc0",
   "metadata": {},
   "source": [
    "# Download the Chlorophyll Data (Github code - Not Working)"
   ]
  },
  {
   "cell_type": "code",
   "execution_count": null,
   "id": "0a0c731e",
   "metadata": {},
   "outputs": [],
   "source": [
    "psw = \"J>uL|O?-ZGIn\"\n",
    "\n",
    "import requests\n",
    "import os\n",
    "from os.path import join\n",
    "from multiprocessing import Pool\n",
    "import datetime\n",
    "from datetime import timedelta\n",
    "import subprocess"
   ]
  },
  {
   "cell_type": "code",
   "execution_count": null,
   "id": "4438b43e",
   "metadata": {},
   "outputs": [],
   "source": [
    "output_folder = \"C:/Users/Admin/Downloads/CHLORA\""
   ]
  },
  {
   "cell_type": "code",
   "execution_count": null,
   "id": "f970d88a",
   "metadata": {},
   "outputs": [],
   "source": [
    "if not os.path.exists(output_folder):\n",
    "    os.makedirs(output_folder)"
   ]
  },
  {
   "cell_type": "code",
   "execution_count": null,
   "id": "999b11de",
   "metadata": {},
   "outputs": [],
   "source": [
    "TOT_PROC = 1\n",
    "start_date = datetime.date(2023,2,1)\n",
    "final_end_date = datetime.date.today()\n",
    "days_increment = 1\n",
    "bbox = \"-99 -74 17  31\""
   ]
  },
  {
   "cell_type": "code",
   "execution_count": null,
   "id": "e5c03088",
   "metadata": {},
   "outputs": [],
   "source": [
    "def par_download(proc_id):\n",
    "    c_date = start_date\n",
    "    c_end_date = c_date + timedelta(days=days_increment)\n",
    "    i = 0\n",
    "    while c_date < final_end_date:\n",
    "        if i % TOT_PROC == proc_id:\n",
    "            url = \"http://dap.ceda.ac.uk/thredds/dodsC/neodc/esacci/ocean_colour/data/v3.1-release/geographic/netcdf/all_products/daily/v3.1/1997/ESACCI-OC-L3S-OC_PRODUCTS-MERGED-1D_DAILY_4km_GEO_PML_OCx_QAA-19970904-fv3.1.nc?time[0:1:0],chlor_a[0:1:0][0:1:0][0:1:0],lat[0:1:4319],lon[0:1:8639]\"\n",
    "            cmd = F\"python ./remote_nc_reader.py {url} chlor_a\"\n",
    "            print(cmd)\n",
    "            # os.system(cmd)\n",
    "            c_date = c_date + timedelta(days=days_increment)\n",
    "            c_end_date = c_date + timedelta(days=days_increment)\n",
    "            print(\"Done!\")\n",
    "        i += 1\n",
    "        exit()"
   ]
  },
  {
   "cell_type": "code",
   "execution_count": null,
   "id": "03d9eea2",
   "metadata": {},
   "outputs": [],
   "source": [
    "## Single\n",
    "par_download(0)"
   ]
  },
  {
   "cell_type": "code",
   "execution_count": null,
   "id": "2f35910a",
   "metadata": {},
   "outputs": [],
   "source": [
    "# This code is not working, executing for a long period of time with no output\n",
    "\n",
    "p = Pool(TOT_PROC)\n",
    "p.map(par_download, range(TOT_PROC))"
   ]
  },
  {
   "cell_type": "markdown",
   "id": "cc50448b",
   "metadata": {},
   "source": [
    "# Updated Code to Download the Chlorophyll Data (Working)"
   ]
  },
  {
   "cell_type": "code",
   "execution_count": null,
   "id": "fbb6f31f",
   "metadata": {},
   "outputs": [],
   "source": [
    "import urllib.request\n",
    "import os\n",
    "from bs4 import BeautifulSoup"
   ]
  },
  {
   "cell_type": "code",
   "execution_count": null,
   "id": "3ee3c98b",
   "metadata": {},
   "outputs": [],
   "source": [
    "url = \"https://dap.ceda.ac.uk/neodc/esacci/ocean_colour/data/v3.1-release/geographic/netcdf/chlor_a/daily/v3.1/2016/\""
   ]
  },
  {
   "cell_type": "code",
   "execution_count": null,
   "id": "2c8ca693",
   "metadata": {},
   "outputs": [],
   "source": [
    "# Get the HTML content of the directory\n",
    "html_content = urllib.request.urlopen(url).read()"
   ]
  },
  {
   "cell_type": "code",
   "execution_count": null,
   "id": "1fa92221",
   "metadata": {},
   "outputs": [],
   "source": [
    "# Use BeautifulSoup to parse the HTML content\n",
    "soup = BeautifulSoup(html_content, \"html.parser\")"
   ]
  },
  {
   "cell_type": "code",
   "execution_count": null,
   "id": "5c2eacf1",
   "metadata": {},
   "outputs": [],
   "source": [
    "# Find all the links in the HTML content\n",
    "links = [link.get(\"href\") for link in soup.find_all(\"a\")]"
   ]
  },
  {
   "cell_type": "code",
   "execution_count": null,
   "id": "6d1f49eb",
   "metadata": {},
   "outputs": [],
   "source": [
    "# Iterate through the list of links\n",
    "for link in links:\n",
    "    if \".nc\" in link:\n",
    "        file_url = url + link\n",
    "        file_name = os.path.join(\"C:/Users/Admin/Downloads/CHLORA/\", link)\n",
    "        urllib.request.urlretrieve(file_url, file_name)\n",
    "        print(f\"{link} downloaded successfully.\")"
   ]
  },
  {
   "cell_type": "code",
   "execution_count": null,
   "id": "ee787fbe",
   "metadata": {},
   "outputs": [],
   "source": []
  }
 ],
 "metadata": {
  "kernelspec": {
   "display_name": "Python 3 (ipykernel)",
   "language": "python",
   "name": "python3"
  },
  "language_info": {
   "codemirror_mode": {
    "name": "ipython",
    "version": 3
   },
   "file_extension": ".py",
   "mimetype": "text/x-python",
   "name": "python",
   "nbconvert_exporter": "python",
   "pygments_lexer": "ipython3",
   "version": "3.9.13"
  }
 },
 "nbformat": 4,
 "nbformat_minor": 5
}
