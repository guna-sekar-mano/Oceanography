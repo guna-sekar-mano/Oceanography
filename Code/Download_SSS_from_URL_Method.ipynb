{
 "cells": [
  {
   "cell_type": "code",
   "execution_count": null,
   "id": "7ae21a46",
   "metadata": {},
   "outputs": [],
   "source": [
    "import requests\n",
    "import numpy as np"
   ]
  },
  {
   "cell_type": "code",
   "execution_count": null,
   "id": "c88cbdb5",
   "metadata": {},
   "outputs": [],
   "source": [
    "Days = np.arange(1,10)"
   ]
  },
  {
   "cell_type": "code",
   "execution_count": null,
   "id": "25a385d6",
   "metadata": {},
   "outputs": [],
   "source": [
    "for Day in Days:\n",
    "    if(Day<10):\n",
    "        url = 'https://data.remss.com/smap/SSS/V05.0/FINAL/L3/8day_running/2021/RSS_smap_SSS_L3_8day_running_2021_00'+str(Day)+'_FNL_v05.0.nc' \n",
    "        \n",
    "    elif(Day>=10 and Day<=99):\n",
    "        url = 'https://data.remss.com/smap/SSS/V05.0/FINAL/L3/8day_running/2021/RSS_smap_SSS_L3_8day_running_2021_0'+str(Day)+'_FNL_v05.0.nc'\n",
    "        \n",
    "    elif(Day>=100 and Day<=214):\n",
    "        url = 'https://data.remss.com/smap/SSS/V05.0/FINAL/L3/8day_running/2021/RSS_smap_SSS_L3_8day_running_2021_'+str(Day)+'_FNL_v05.0.nc'\n",
    "        \n",
    "    elif(Day>=215 and Day<=365):\n",
    "        url = 'https://data.remss.com/smap/SSS/V05.0/FINAL/L3/8day_running/2021/RSS_smap_SSS_L3_8day_running_2021_'+str(Day)+'_FNL_v05.0.nc'    \n",
    "        \n",
    "    else:\n",
    "        print(\"Unable to download\")\n",
    "    r = requests.get(url, allow_redirects = True)\n",
    "    open('C:/Users/Guna/Downloads/GOFFISH Project/Download SSS data from URL/SSS/2021/RSS_smap_SSS_L3_8day_running_2021_'+str(Day)+'_FNL_v05.0.nc','wb').write(r.content)"
   ]
  },
  {
   "cell_type": "markdown",
   "id": "0eb7bc11",
   "metadata": {},
   "source": [
    "# Analyse the Sea Surface Salinity Data"
   ]
  },
  {
   "cell_type": "code",
   "execution_count": null,
   "id": "7b0220f7",
   "metadata": {},
   "outputs": [],
   "source": [
    "import warnings\n",
    "warnings.filterwarnings('ignore')\n",
    "import numpy as np\n",
    "import pandas as pd \n",
    "import xarray as xr\n",
    "%matplotlib inline\n",
    "import matplotlib.pyplot as plt\n",
    "import os\n",
    "import hvplot.xarray"
   ]
  },
  {
   "cell_type": "code",
   "execution_count": null,
   "id": "c9c7ac32",
   "metadata": {},
   "outputs": [],
   "source": [
    "sss_path = 'C:/Users/Admin/Downloads/Download SSS data from URL/SSS/'\n",
    "sss_files = [f for f in os.listdir(sss_path) if f.endswith('.nc')]"
   ]
  },
  {
   "cell_type": "code",
   "execution_count": null,
   "id": "fc0b65b6",
   "metadata": {},
   "outputs": [],
   "source": [
    "sss_ds = xr.open_mfdataset(os.path.join(sss_path, f) for f in sss_files)\n",
    "sss_ds"
   ]
  },
  {
   "cell_type": "code",
   "execution_count": null,
   "id": "98da5082",
   "metadata": {},
   "outputs": [],
   "source": [
    "# Plot the map\n",
    "\n",
    "sss_ds.sss_smap.hvplot.quadmesh(\n",
    "    groupby=\"time\",\n",
    "    clim=(sss_ds.sss_smap.min(), sss_ds.sss_smap.max()),\n",
    "    cmap='turbo',\n",
    "    widget_type=\"scrubber\",\n",
    "    widget_location=\"bottom\",\n",
    "    colorbar=True,\n",
    "    height=500,\n",
    "    width=800\n",
    ")"
   ]
  },
  {
   "cell_type": "code",
   "execution_count": null,
   "id": "fb8b512c",
   "metadata": {},
   "outputs": [],
   "source": []
  }
 ],
 "metadata": {
  "kernelspec": {
   "display_name": "Python 3 (ipykernel)",
   "language": "python",
   "name": "python3"
  },
  "language_info": {
   "codemirror_mode": {
    "name": "ipython",
    "version": 3
   },
   "file_extension": ".py",
   "mimetype": "text/x-python",
   "name": "python",
   "nbconvert_exporter": "python",
   "pygments_lexer": "ipython3",
   "version": "3.9.13"
  }
 },
 "nbformat": 4,
 "nbformat_minor": 5
}
